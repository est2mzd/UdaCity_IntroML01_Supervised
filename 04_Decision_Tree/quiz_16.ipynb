{
 "cells": [
  {
   "cell_type": "code",
   "execution_count": 1,
   "metadata": {},
   "outputs": [],
   "source": [
    "import numpy as np\n",
    "import pandas as pd"
   ]
  },
  {
   "cell_type": "code",
   "execution_count": 2,
   "metadata": {},
   "outputs": [],
   "source": [
    "#------------------------------------------------------#\n",
    "def calcEntropy0(num_1, num_total):\n",
    "  num_T = num_1\n",
    "  num_F = num_total - num_T\n",
    "  p_T   = num_T / num_total\n",
    "  p_F   = num_F / num_total\n",
    "  return ( -p_T * np.log2(p_T) - p_F * np.log2(p_F) )"
   ]
  },
  {
   "cell_type": "code",
   "execution_count": 3,
   "metadata": {},
   "outputs": [
    {
     "name": "stdout",
     "output_type": "stream",
     "text": [
      "----------------------------------\n",
      "       Length (mm)\n",
      "count    24.000000\n",
      "mean     18.070833\n",
      "std       3.584323\n",
      "min      11.600000\n",
      "25%      14.975000\n",
      "50%      18.300000\n",
      "75%      20.625000\n",
      "max      24.800000\n"
     ]
    }
   ],
   "source": [
    "#------------------------------------------------------#\n",
    "# csvデータをロードする\n",
    "df = pd.read_csv(\"ml-bugs.csv\")\n",
    "print(\"----------------------------------\")\n",
    "print(df.describe())\n",
    "shape_df = df.shape # 行と列数が返る\n",
    "num_total  = shape_df[0]"
   ]
  },
  {
   "cell_type": "code",
   "execution_count": 4,
   "metadata": {},
   "outputs": [
    {
     "name": "stdout",
     "output_type": "stream",
     "text": [
      "----------------------------------\n",
      "['Mobug' 'Lobug']\n"
     ]
    }
   ],
   "source": [
    "#------------------------------------------------------#\n",
    "# Species列のユニークな値を検索する -> ['Mobug' 'Lobug']\n",
    "print(\"----------------------------------\")\n",
    "unique_spec = df['Species'].unique()\n",
    "print(unique_spec)\n",
    "#print(csv_data.Species.unique()) # この方法でもOK"
   ]
  }
 ],
 "metadata": {
  "kernelspec": {
   "display_name": "Python 3",
   "language": "python",
   "name": "python3"
  },
  "language_info": {
   "codemirror_mode": {
    "name": "ipython",
    "version": 3
   },
   "file_extension": ".py",
   "mimetype": "text/x-python",
   "name": "python",
   "nbconvert_exporter": "python",
   "pygments_lexer": "ipython3",
   "version": "3.6.8"
  }
 },
 "nbformat": 4,
 "nbformat_minor": 2
}
