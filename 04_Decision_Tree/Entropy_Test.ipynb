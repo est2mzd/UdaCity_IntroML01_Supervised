{
 "cells": [
  {
   "cell_type": "code",
   "execution_count": 1,
   "metadata": {},
   "outputs": [
    {
     "name": "stdout",
     "output_type": "stream",
     "text": [
      "3\n"
     ]
    }
   ],
   "source": [
    "import numpy as np\n",
    "\n",
    "num_list = np.array([8,3,2])\n",
    "num_sum  = np.sum(num_list)\n",
    "p_list   = []\n",
    "entropy  = 0\n",
    "\n",
    "num_list = np.array([8,3,2])\n",
    "print(len(num_list))"
   ]
  },
  {
   "cell_type": "code",
   "execution_count": 2,
   "metadata": {},
   "outputs": [],
   "source": [
    "# p[i]の計算\n",
    "for i in range(len(num_list)):\n",
    "    print\n",
    "    p_list.append(num_list[i]/num_sum)"
   ]
  },
  {
   "cell_type": "code",
   "execution_count": 3,
   "metadata": {},
   "outputs": [
    {
     "name": "stdout",
     "output_type": "stream",
     "text": [
      "pi =  0.6153846153846154\n",
      "pi =  0.23076923076923078\n",
      "pi =  0.15384615384615385\n",
      "entropy =  1.3346791410515946\n"
     ]
    }
   ],
   "source": [
    "# Entropyの計算\n",
    "for i in range(len(num_list)):\n",
    "  print(\"pi = \", p_list[i])\n",
    "  entropy += -p_list[i] * np.log2(p_list[i])\n",
    "\n",
    "print(\"entropy = \", entropy)"
   ]
  }
 ],
 "metadata": {
  "kernelspec": {
   "display_name": "Python 3",
   "language": "python",
   "name": "python3"
  },
  "language_info": {
   "codemirror_mode": {
    "name": "ipython",
    "version": 3
   },
   "file_extension": ".py",
   "mimetype": "text/x-python",
   "name": "python",
   "nbconvert_exporter": "python",
   "pygments_lexer": "ipython3",
   "version": "3.6.8"
  }
 },
 "nbformat": 4,
 "nbformat_minor": 2
}
