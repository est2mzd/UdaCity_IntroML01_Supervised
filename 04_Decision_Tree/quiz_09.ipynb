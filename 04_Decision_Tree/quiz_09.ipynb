{
 "cells": [
  {
   "cell_type": "code",
   "execution_count": 1,
   "metadata": {},
   "outputs": [],
   "source": [
    "import numpy as np\n",
    "import pandas as pd\n",
    "import matplotlib.pyplot as plt\n",
    "\n",
    "# Setting the random seed, feel free to change it and see different solutions.\n",
    "np.random.seed(42)"
   ]
  },
  {
   "cell_type": "markdown",
   "metadata": {},
   "source": [
    "### Step関数　と　Stepを使ったForward"
   ]
  },
  {
   "cell_type": "code",
   "execution_count": 2,
   "metadata": {},
   "outputs": [],
   "source": [
    "#-----------------------------------\n",
    "def stepFunction(t):\n",
    "  if t >= 0: # 0 も Positiveとみなす\n",
    "    return 1\n",
    "  return 0\n",
    "\n",
    "#-----------------------------------\n",
    "def prediction(X, W, b):\n",
    "  return stepFunction((np.matmul(X, W) + b)[0])"
   ]
  },
  {
   "cell_type": "markdown",
   "metadata": {},
   "source": [
    "### Forward & BackPropagation 用の関数の定義"
   ]
  },
  {
   "cell_type": "code",
   "execution_count": 3,
   "metadata": {},
   "outputs": [],
   "source": [
    "#-----------------------------------\n",
    "# TODO: Fill in the code below to implement the perceptron trick.\n",
    "# The function should receive as inputs the data X, the labels y,\n",
    "# the weights W (as an array), and the bias b,\n",
    "# update the weights and bias W, b, according to the perceptron algorithm,\n",
    "# and return W and b.\n",
    "def perceptronStep(X, y, W, b, learn_rate=0.01):\n",
    "    for i in range(len(X)):\n",
    "        # 一つずつ値を予測する\n",
    "        y_pred = prediction(X[i], W, b)\n",
    "\n",
    "        # 誤分類<1> 予測=0 / 正解=1\n",
    "        if (y_pred - y[i]) == -1:\n",
    "            W[0] += X[i][0] * learn_rate\n",
    "            W[1] += X[i][1] * learn_rate\n",
    "            b    += learn_rate\n",
    "\n",
    "        # 誤分類<2> 予測=1 / 正解=0\n",
    "        elif (y_pred - y[i]) == 1:\n",
    "            W[0] -= X[i][0] * learn_rate\n",
    "            W[1] -= X[i][1] * learn_rate\n",
    "            b    -= learn_rate\n",
    "\n",
    "    return W, b\n"
   ]
  },
  {
   "cell_type": "markdown",
   "metadata": {},
   "source": [
    "### 指定エポック、Forward & BackPropagationを実行する関数"
   ]
  },
  {
   "cell_type": "code",
   "execution_count": 4,
   "metadata": {},
   "outputs": [],
   "source": [
    "# This function runs the perceptron algorithm repeatedly on the dataset,\n",
    "# and returns a few of the boundary lines obtained in the iterations,\n",
    "# for plotting purposes.\n",
    "# Feel free to play with the learning rate and the num_epochs,\n",
    "# and see your results plotted below.\n",
    "def trainPerceptronAlgorithm(X, y, learn_rate=0.01, num_epochs=25):\n",
    "  x_min, x_max = min(X.T[0]), max(X.T[0])\n",
    "  y_min, y_max = min(X.T[1]), max(X.T[1])\n",
    "    \n",
    "  W = np.array(np.random.rand(2, 1))\n",
    "  b = np.random.rand(1)[0] + x_max\n",
    "    \n",
    "  # These are the solution lines that get plotted below.\n",
    "  boundary_lines = []\n",
    "    \n",
    "  for i in range(num_epochs):\n",
    "    # In each epoch, we apply the perceptron step.\n",
    "    W, b = perceptronStep(X, y, W, b, learn_rate)\n",
    "    \n",
    "    boundary_lines.append((-W[0] / W[1], -b / W[1]))\n",
    "    \n",
    "  return boundary_lines\n"
   ]
  },
  {
   "cell_type": "markdown",
   "metadata": {},
   "source": [
    "### データの読み込み"
   ]
  },
  {
   "cell_type": "code",
   "execution_count": 5,
   "metadata": {},
   "outputs": [],
   "source": [
    "# 以下の方法では、ヘッダではない1行目が取得できない\n",
    "# csv_data = pd.read_csv(\"data_quiz_09.csv\")\n",
    "# X = csv_data.iloc[:, :-1].values # 最後の列の1個手前まで\n",
    "# y = csv_data.iloc[:,-1].values   # 最後の列を指定\n",
    "\n",
    "# csvデータの読み込み : ここでは、ともに1列のデータ\n",
    "csv_data = np.loadtxt(\"data_quiz_09.csv\", delimiter=',')\n",
    "X = csv_data[:, :-1]\n",
    "y = csv_data[:, -1]"
   ]
  },
  {
   "cell_type": "markdown",
   "metadata": {},
   "source": [
    "### Trainingの実行"
   ]
  },
  {
   "cell_type": "code",
   "execution_count": 6,
   "metadata": {},
   "outputs": [
    {
     "name": "stdout",
     "output_type": "stream",
     "text": [
      "type(boundary_lines) =  <class 'list'>\n",
      "len(boundary_lines)  =  25\n",
      "[(array([-0.05239463]), array([-2.04919443])), (array([1.23772563]), array([-2.90815949])), (array([-39.47663703]), array([23.57864461])), (array([-13.13237331]), array([7.06473087])), (array([-9.11612538]), array([4.57527519]))]\n"
     ]
    }
   ],
   "source": [
    "boundary_lines = trainPerceptronAlgorithm(X,y)\n",
    "print( \"type(boundary_lines) = \", type(boundary_lines) )\n",
    "print( \"len(boundary_lines)  = \", len(boundary_lines) )\n",
    "print( boundary_lines[:5] )"
   ]
  },
  {
   "cell_type": "markdown",
   "metadata": {},
   "source": [
    "### Step関数 Perceptronの予測結果の表示"
   ]
  },
  {
   "cell_type": "code",
   "execution_count": 7,
   "metadata": {},
   "outputs": [
    {
     "data": {
      "text/plain": [
       "Text(0.5, 1.0, 'red=[y=0]  /  blue=[y=1]')"
      ]
     },
     "execution_count": 7,
     "metadata": {},
     "output_type": "execute_result"
    },
    {
     "data": {
      "image/png": "[encoded data removed]",
      "text/plain": [
       "<Figure size 432x288 with 1 Axes>"
      ]
     },
     "metadata": {
      "needs_background": "light"
     },
     "output_type": "display_data"
    }
   ],
   "source": [
    "for i,tmp_y in enumerate(y):\n",
    "    if tmp_y == 0:\n",
    "        plt.plot(X[i,0], X[i,1], 'ro')\n",
    "        #plt.plot(X[i,1], X[i,0], 'ro')\n",
    "\n",
    "    else:\n",
    "        plt.plot(X[i, 0], X[i, 1], 'bo')\n",
    "        #plt.plot(X[i, 1], X[i, 0], 'bo')\n",
    "\n",
    "for i in range(len(boundary_lines)):\n",
    "    #print(\"i = \", i)\n",
    "    x_data = [0,1]\n",
    "    y_data = boundary_lines[i][0]*x_data + boundary_lines[i][1]\n",
    "    #print(x_data)\n",
    "    #print(y_data)\n",
    "    plt.plot(x_data, y_data)        \n",
    "        \n",
    "        \n",
    "plt.grid()\n",
    "plt.title(\"red=[y=0]  /  blue=[y=1]\")"
   ]
  }
 ],
 "metadata": {
  "kernelspec": {
   "display_name": "Python 3",
   "language": "python",
   "name": "python3"
  },
  "language_info": {
   "codemirror_mode": {
    "name": "ipython",
    "version": 3
   },
   "file_extension": ".py",
   "mimetype": "text/x-python",
   "name": "python",
   "nbconvert_exporter": "python",
   "pygments_lexer": "ipython3",
   "version": "3.6.8"
  }
 },
 "nbformat": 4,
 "nbformat_minor": 2
}
