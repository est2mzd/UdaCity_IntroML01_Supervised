{
 "cells": [
  {
   "cell_type": "markdown",
   "metadata": {},
   "source": [
    "### Entropyの計算  ,  E = sum(  -Pi * Log2(Pi) )"
   ]
  },
  {
   "cell_type": "code",
   "execution_count": 1,
   "metadata": {},
   "outputs": [
    {
     "name": "stdout",
     "output_type": "stream",
     "text": [
      "entropy =  1.3346791410515946\n"
     ]
    }
   ],
   "source": [
    "# Red : Blue : Yellow =  8 : 3 : 2\n",
    "# Calculate entropy\n",
    "import numpy as np\n",
    "\n",
    "num_list = np.array([8,3,2])\n",
    "num_sum  = np.sum(num_list)\n",
    "p        = []\n",
    "entropy  = 0\n",
    "\n",
    "# p[i]の計算\n",
    "for i in range(len(num_list)):\n",
    "  p.append(num_list[i]/num_sum)\n",
    "\n",
    "# Entropyの計算\n",
    "for i in range(len(p)):\n",
    "  entropy += -p[i]*np.log2(p[i])\n",
    "\n",
    "print(\"entropy = \", entropy)"
   ]
  },
  {
   "cell_type": "code",
   "execution_count": null,
   "metadata": {},
   "outputs": [],
   "source": []
  }
 ],
 "metadata": {
  "kernelspec": {
   "display_name": "Python 3",
   "language": "python",
   "name": "python3"
  },
  "language_info": {
   "codemirror_mode": {
    "name": "ipython",
    "version": 3
   },
   "file_extension": ".py",
   "mimetype": "text/x-python",
   "name": "python",
   "nbconvert_exporter": "python",
   "pygments_lexer": "ipython3",
   "version": "3.6.8"
  }
 },
 "nbformat": 4,
 "nbformat_minor": 2
}
