{
 "cells": [
  {
   "cell_type": "markdown",
   "metadata": {},
   "source": [
    "### Entropyの計算  ,  E = sum(  -Pi * Log2(Pi) )"
   ]
  },
  {
   "cell_type": "code",
   "execution_count": 1,
   "metadata": {},
   "outputs": [
    {
     "name": "stdout",
     "output_type": "stream",
     "text": [
      "Entropy =  0.863120568566631\n"
     ]
    }
   ],
   "source": [
    "# Red : Blue =  4 : 10\n",
    "# Calculate entropy\n",
    "import numpy as np\n",
    "\n",
    "m = 4\n",
    "n = 10\n",
    "\n",
    "p1 = m/(m+n)\n",
    "p2 = n/(m+n)\n",
    "Entropy = -p1*np.log2(p1) -p2*np.log2(p2)\n",
    "print(\"Entropy = \", Entropy)"
   ]
  },
  {
   "cell_type": "code",
   "execution_count": null,
   "metadata": {},
   "outputs": [],
   "source": []
  }
 ],
 "metadata": {
  "kernelspec": {
   "display_name": "Python 3",
   "language": "python",
   "name": "python3"
  },
  "language_info": {
   "codemirror_mode": {
    "name": "ipython",
    "version": 3
   },
   "file_extension": ".py",
   "mimetype": "text/x-python",
   "name": "python",
   "nbconvert_exporter": "python",
   "pygments_lexer": "ipython3",
   "version": "3.6.8"
  }
 },
 "nbformat": 4,
 "nbformat_minor": 2
}
