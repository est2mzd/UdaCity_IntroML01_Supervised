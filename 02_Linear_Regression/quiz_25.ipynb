{
 "cells": [
  {
   "cell_type": "code",
   "execution_count": 1,
   "metadata": {},
   "outputs": [
    {
     "data": {
      "text/plain": [
       "'\\nfit()\\n渡されたデータの最大値、最小値、平均、標準偏差、傾き...などの統計を取得して、内部メモリに保存する。\\n\\ntransform()\\nfit()で取得した統計情報を使って、渡されたデータを実際に書き換える。\\n\\nfit_transform()\\nfit()を実施した後に、同じデータに対してtransform()を実施する。\\n'"
      ]
     },
     "execution_count": 1,
     "metadata": {},
     "output_type": "execute_result"
    }
   ],
   "source": [
    "# ---<参考情報 : PolynomialFeatures>-----------------------------------------------\n",
    "'''\n",
    "fit()\n",
    "渡されたデータの最大値、最小値、平均、標準偏差、傾き...などの統計を取得して、内部メモリに保存する。\n",
    "\n",
    "transform()\n",
    "fit()で取得した統計情報を使って、渡されたデータを実際に書き換える。\n",
    "\n",
    "fit_transform()\n",
    "fit()を実施した後に、同じデータに対してtransform()を実施する。\n",
    "'''\n",
    "# ---------------------------------------------------"
   ]
  },
  {
   "cell_type": "code",
   "execution_count": 2,
   "metadata": {},
   "outputs": [],
   "source": [
    "# TODO: Add import statements\n",
    "import numpy as np\n",
    "import pandas as pd\n",
    "from sklearn.linear_model import LinearRegression\n",
    "from sklearn.preprocessing import PolynomialFeatures\n",
    "import matplotlib.pyplot as plt"
   ]
  },
  {
   "cell_type": "code",
   "execution_count": 3,
   "metadata": {},
   "outputs": [
    {
     "name": "stdout",
     "output_type": "stream",
     "text": [
      "     Var_X    Var_Y\n",
      "0 -0.33532  6.66854\n",
      "1  0.02160  3.86398\n",
      "2 -1.19438  5.16161\n",
      "3 -0.65046  8.43823\n",
      "4 -0.28001  5.57201\n"
     ]
    }
   ],
   "source": [
    "#データの読み込み\n",
    "train_data = pd.read_csv(\"data_quiz_25.csv\")\n",
    "print(train_data.head())"
   ]
  },
  {
   "cell_type": "code",
   "execution_count": 4,
   "metadata": {},
   "outputs": [],
   "source": [
    "#X = train_data[[\"Var_X\"]]     # DataFrame型で保存される\n",
    "#X = train_data[\"Var_X\"].value # Vector、(20,)になる\n",
    "X = train_data[\"Var_X\"].values.reshape(-1,1) # (20,1), 行数は指定しない、列数は1を指定\n",
    "y = train_data[\"Var_Y\"].values"
   ]
  },
  {
   "cell_type": "markdown",
   "metadata": {},
   "source": [
    "## X を PolynomialFeatures　用の形式に変換する"
   ]
  },
  {
   "cell_type": "code",
   "execution_count": 5,
   "metadata": {},
   "outputs": [],
   "source": [
    "# 4次までの変数を作成するインスタンスの生成\n",
    "poly_feat = PolynomialFeatures(degree=4) # 4次の式\n",
    "\n",
    "# X を PolynomialFeatures　用の形式に変換する:型はnd-array\n",
    "X_poly   = poly_feat.fit_transform(X)"
   ]
  },
  {
   "cell_type": "code",
   "execution_count": 6,
   "metadata": {},
   "outputs": [
    {
     "name": "stdout",
     "output_type": "stream",
     "text": [
      "<class 'numpy.ndarray'>\n",
      "(20, 5)\n"
     ]
    }
   ],
   "source": [
    "print(type(X_poly))\n",
    "print(X_poly.shape) #　4次　だから　5列　ある"
   ]
  },
  {
   "cell_type": "markdown",
   "metadata": {},
   "source": [
    "## LinearRegressionとPolynominalを併用して曲線近似"
   ]
  },
  {
   "cell_type": "code",
   "execution_count": 7,
   "metadata": {},
   "outputs": [],
   "source": [
    "# 近似する fit\n",
    "poly_model = LinearRegression( fit_intercept=False ).fit( X_poly , y )\n",
    "\n",
    "# 係数を取得する\n",
    "coef_data = poly_model.coef_"
   ]
  },
  {
   "cell_type": "code",
   "execution_count": 8,
   "metadata": {},
   "outputs": [],
   "source": [
    "# 予測用のデータ初期化\n",
    "y_pred = np.zeros( [len(X), 1])\n",
    "\n",
    "# Xを昇順にソートする, axisの設定が必要\n",
    "X_sorted = np.sort(X, axis=0)\n",
    "\n",
    "# 予測係数を用いて、近似曲線データを作成する\n",
    "for i, keisu in enumerate(coef_data):\n",
    "  y_pred = y_pred + keisu * X_sorted**i"
   ]
  },
  {
   "cell_type": "code",
   "execution_count": 10,
   "metadata": {},
   "outputs": [
    {
     "data": {
      "image/png": "[encoded data removed]",
      "text/plain": [
       "<Figure size 432x288 with 1 Axes>"
      ]
     },
     "metadata": {
      "needs_background": "light"
     },
     "output_type": "display_data"
    }
   ],
   "source": [
    "# Figure\n",
    "plt.figure()\n",
    "plt.rcParams['font.size'] = 14\n",
    "\n",
    "# 予測近似曲線\n",
    "plt.plot(X_sorted, y_pred, 'r')\n",
    "#plt.hold(True)\n",
    "\n",
    "# 入力データ\n",
    "plt.scatter(X,y)\n",
    "plt.grid()"
   ]
  },
  {
   "cell_type": "code",
   "execution_count": null,
   "metadata": {},
   "outputs": [],
   "source": []
  }
 ],
 "metadata": {
  "kernelspec": {
   "display_name": "Python 3",
   "language": "python",
   "name": "python3"
  },
  "language_info": {
   "codemirror_mode": {
    "name": "ipython",
    "version": 3
   },
   "file_extension": ".py",
   "mimetype": "text/x-python",
   "name": "python",
   "nbconvert_exporter": "python",
   "pygments_lexer": "ipython3",
   "version": "3.6.8"
  }
 },
 "nbformat": 4,
 "nbformat_minor": 2
}
